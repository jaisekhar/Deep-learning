{
  "nbformat": 4,
  "nbformat_minor": 0,
  "metadata": {
    "colab": {
      "name": "DL_1b.ipynb",
      "provenance": []
    },
    "kernelspec": {
      "name": "python3",
      "display_name": "Python 3"
    }
  },
  "cells": [
    {
      "cell_type": "code",
      "metadata": {
        "id": "pTRagYcvHjDj",
        "colab_type": "code",
        "colab": {}
      },
      "source": [
        "import pandas\n",
        "from keras.models import Sequential\n",
        "from keras.layers.core import Dense, Activation\n",
        "\n",
        "# load dataset\n",
        "from sklearn.model_selection import train_test_split\n",
        "import pandas as pd\n",
        "import numpy as np"
      ],
      "execution_count": 0,
      "outputs": []
    },
    {
      "cell_type": "markdown",
      "metadata": {
        "id": "2HP9E-3HxR8w",
        "colab_type": "text"
      },
      "source": [
        "# New Section"
      ]
    },
    {
      "cell_type": "code",
      "metadata": {
        "id": "vweUDRwhxbsB",
        "colab_type": "code",
        "outputId": "bf335661-2865-4544-ea49-71a38780b62e",
        "colab": {
          "base_uri": "https://localhost:8080/",
          "height": 34
        }
      },
      "source": [
        "from google.colab import drive\n",
        "drive.mount('/content/drive')"
      ],
      "execution_count": 10,
      "outputs": [
        {
          "output_type": "stream",
          "text": [
            "Drive already mounted at /content/drive; to attempt to forcibly remount, call drive.mount(\"/content/drive\", force_remount=True).\n"
          ],
          "name": "stdout"
        }
      ]
    },
    {
      "cell_type": "code",
      "metadata": {
        "id": "ApzFGDkOHnt7",
        "colab_type": "code",
        "outputId": "87288eca-9f00-4341-f356-c1081a059167",
        "colab": {
          "base_uri": "https://localhost:8080/",
          "height": 101
        }
      },
      "source": [
        "dataset = pd.read_csv(\"drive/My Drive/DL_ICP1/breastcancer.csv\").values\n",
        "from sklearn import preprocessing\n",
        "pre_process = preprocessing.LabelEncoder()\n",
        "pre_process.fit(dataset[:,1])\n",
        "\n",
        "dataset[:,1] = pre_process.transform(dataset[:,1])\n",
        "mapping = {'M': 1, 'B': 2}\n",
        "\n",
        "\n",
        "from sklearn.preprocessing import StandardScaler\n",
        "sc = StandardScaler()\n",
        "print (sc.fit(dataset))"
      ],
      "execution_count": 11,
      "outputs": [
        {
          "output_type": "stream",
          "text": [
            "StandardScaler(copy=True, with_mean=True, with_std=True)\n"
          ],
          "name": "stdout"
        },
        {
          "output_type": "stream",
          "text": [
            "/usr/local/lib/python3.6/dist-packages/sklearn/utils/extmath.py:765: RuntimeWarning: invalid value encountered in true_divide\n",
            "  updated_mean = (last_sum + new_sum) / updated_sample_count\n",
            "/usr/local/lib/python3.6/dist-packages/sklearn/utils/extmath.py:706: RuntimeWarning: Degrees of freedom <= 0 for slice.\n",
            "  result = op(x, *args, **kwargs)\n"
          ],
          "name": "stderr"
        }
      ]
    },
    {
      "cell_type": "code",
      "metadata": {
        "id": "yt64olkkHwft",
        "colab_type": "code",
        "colab": {}
      },
      "source": [
        " X_train, X_test, Y_train, Y_test = train_test_split(dataset[:,2:31], dataset[:,1],test_size=0.25, random_state=87) "
      ],
      "execution_count": 0,
      "outputs": []
    },
    {
      "cell_type": "code",
      "metadata": {
        "id": "d31zma3SH1KX",
        "colab_type": "code",
        "colab": {}
      },
      "source": [
        "np.random.seed(42)"
      ],
      "execution_count": 0,
      "outputs": []
    },
    {
      "cell_type": "code",
      "metadata": {
        "id": "rMfomxTmH3ww",
        "colab_type": "code",
        "outputId": "d8f12551-8481-4e7e-a7d0-c806bb1d1413",
        "colab": {
          "base_uri": "https://localhost:8080/",
          "height": 1000
        }
      },
      "source": [
        "first_model = Sequential() # create model\n",
        "first_model.add(Dense(50, input_dim=29, activation='relu')) # hidden layer\n",
        "first_model.add(Dense(1, activation='sigmoid')) # output layer\n",
        "first_model.compile(loss='binary_crossentropy', optimizer='rmsprop', metrics=['acc'])\n",
        "first_model_fitted = first_model.fit(X_train, Y_train, epochs=100,initial_epoch=0)"
      ],
      "execution_count": 14,
      "outputs": [
        {
          "output_type": "stream",
          "text": [
            "Epoch 1/100\n",
            "426/426 [==============================] - 0s 481us/step - loss: 6.3682 - acc: 0.5704\n",
            "Epoch 2/100\n",
            "426/426 [==============================] - 0s 47us/step - loss: 6.1295 - acc: 0.6197\n",
            "Epoch 3/100\n",
            "426/426 [==============================] - 0s 51us/step - loss: 6.1295 - acc: 0.6197\n",
            "Epoch 4/100\n",
            "426/426 [==============================] - 0s 48us/step - loss: 6.1295 - acc: 0.6197\n",
            "Epoch 5/100\n",
            "426/426 [==============================] - 0s 43us/step - loss: 6.1295 - acc: 0.6197\n",
            "Epoch 6/100\n",
            "426/426 [==============================] - 0s 46us/step - loss: 6.1294 - acc: 0.6197\n",
            "Epoch 7/100\n",
            "426/426 [==============================] - 0s 47us/step - loss: 6.1294 - acc: 0.6197\n",
            "Epoch 8/100\n",
            "426/426 [==============================] - 0s 48us/step - loss: 6.1294 - acc: 0.6197\n",
            "Epoch 9/100\n",
            "426/426 [==============================] - 0s 53us/step - loss: 6.1294 - acc: 0.6197\n",
            "Epoch 10/100\n",
            "426/426 [==============================] - 0s 45us/step - loss: 6.1294 - acc: 0.6197\n",
            "Epoch 11/100\n",
            "426/426 [==============================] - 0s 49us/step - loss: 6.1294 - acc: 0.6197\n",
            "Epoch 12/100\n",
            "426/426 [==============================] - 0s 49us/step - loss: 6.1294 - acc: 0.6197\n",
            "Epoch 13/100\n",
            "426/426 [==============================] - 0s 48us/step - loss: 6.1294 - acc: 0.6197\n",
            "Epoch 14/100\n",
            "426/426 [==============================] - 0s 55us/step - loss: 6.1294 - acc: 0.6197\n",
            "Epoch 15/100\n",
            "426/426 [==============================] - 0s 46us/step - loss: 6.1294 - acc: 0.6197\n",
            "Epoch 16/100\n",
            "426/426 [==============================] - 0s 47us/step - loss: 6.1294 - acc: 0.6197\n",
            "Epoch 17/100\n",
            "426/426 [==============================] - 0s 47us/step - loss: 6.1294 - acc: 0.6197\n",
            "Epoch 18/100\n",
            "426/426 [==============================] - 0s 47us/step - loss: 6.1294 - acc: 0.6197\n",
            "Epoch 19/100\n",
            "426/426 [==============================] - 0s 55us/step - loss: 6.1294 - acc: 0.6197\n",
            "Epoch 20/100\n",
            "426/426 [==============================] - 0s 49us/step - loss: 6.1294 - acc: 0.6197\n",
            "Epoch 21/100\n",
            "426/426 [==============================] - 0s 51us/step - loss: 6.1294 - acc: 0.6197\n",
            "Epoch 22/100\n",
            "426/426 [==============================] - 0s 46us/step - loss: 6.1294 - acc: 0.6197\n",
            "Epoch 23/100\n",
            "426/426 [==============================] - 0s 53us/step - loss: 6.1294 - acc: 0.6197\n",
            "Epoch 24/100\n",
            "426/426 [==============================] - 0s 53us/step - loss: 6.1294 - acc: 0.6197\n",
            "Epoch 25/100\n",
            "426/426 [==============================] - 0s 42us/step - loss: 6.1294 - acc: 0.6197\n",
            "Epoch 26/100\n",
            "426/426 [==============================] - 0s 49us/step - loss: 6.1294 - acc: 0.6197\n",
            "Epoch 27/100\n",
            "426/426 [==============================] - 0s 61us/step - loss: 6.1294 - acc: 0.6197\n",
            "Epoch 28/100\n",
            "426/426 [==============================] - 0s 50us/step - loss: 6.1294 - acc: 0.6197\n",
            "Epoch 29/100\n",
            "426/426 [==============================] - 0s 44us/step - loss: 6.1294 - acc: 0.6197\n",
            "Epoch 30/100\n",
            "426/426 [==============================] - 0s 67us/step - loss: 6.1294 - acc: 0.6197\n",
            "Epoch 31/100\n",
            "426/426 [==============================] - 0s 51us/step - loss: 6.1294 - acc: 0.6197\n",
            "Epoch 32/100\n",
            "426/426 [==============================] - 0s 52us/step - loss: 6.1294 - acc: 0.6197\n",
            "Epoch 33/100\n",
            "426/426 [==============================] - 0s 57us/step - loss: 6.1294 - acc: 0.6197\n",
            "Epoch 34/100\n",
            "426/426 [==============================] - 0s 60us/step - loss: 6.1294 - acc: 0.6197\n",
            "Epoch 35/100\n",
            "426/426 [==============================] - 0s 52us/step - loss: 6.1294 - acc: 0.6197\n",
            "Epoch 36/100\n",
            "426/426 [==============================] - 0s 55us/step - loss: 6.1294 - acc: 0.6197\n",
            "Epoch 37/100\n",
            "426/426 [==============================] - 0s 47us/step - loss: 6.1294 - acc: 0.6197\n",
            "Epoch 38/100\n",
            "426/426 [==============================] - 0s 53us/step - loss: 6.1294 - acc: 0.6197\n",
            "Epoch 39/100\n",
            "426/426 [==============================] - 0s 45us/step - loss: 6.1294 - acc: 0.6197\n",
            "Epoch 40/100\n",
            "426/426 [==============================] - 0s 46us/step - loss: 6.1294 - acc: 0.6197\n",
            "Epoch 41/100\n",
            "426/426 [==============================] - 0s 49us/step - loss: 6.1294 - acc: 0.6197\n",
            "Epoch 42/100\n",
            "426/426 [==============================] - 0s 49us/step - loss: 6.1294 - acc: 0.6197\n",
            "Epoch 43/100\n",
            "426/426 [==============================] - 0s 56us/step - loss: 6.1294 - acc: 0.6197\n",
            "Epoch 44/100\n",
            "426/426 [==============================] - 0s 44us/step - loss: 6.1294 - acc: 0.6197\n",
            "Epoch 45/100\n",
            "426/426 [==============================] - 0s 46us/step - loss: 6.1294 - acc: 0.6197\n",
            "Epoch 46/100\n",
            "426/426 [==============================] - 0s 47us/step - loss: 6.1294 - acc: 0.6197\n",
            "Epoch 47/100\n",
            "426/426 [==============================] - 0s 49us/step - loss: 6.1294 - acc: 0.6197\n",
            "Epoch 48/100\n",
            "426/426 [==============================] - 0s 52us/step - loss: 6.1294 - acc: 0.6197\n",
            "Epoch 49/100\n",
            "426/426 [==============================] - 0s 48us/step - loss: 6.1294 - acc: 0.6197\n",
            "Epoch 50/100\n",
            "426/426 [==============================] - 0s 44us/step - loss: 6.1294 - acc: 0.6197\n",
            "Epoch 51/100\n",
            "426/426 [==============================] - 0s 41us/step - loss: 6.1294 - acc: 0.6197\n",
            "Epoch 52/100\n",
            "426/426 [==============================] - 0s 52us/step - loss: 6.1294 - acc: 0.6197\n",
            "Epoch 53/100\n",
            "426/426 [==============================] - 0s 42us/step - loss: 6.1294 - acc: 0.6197\n",
            "Epoch 54/100\n",
            "426/426 [==============================] - 0s 56us/step - loss: 6.1294 - acc: 0.6197\n",
            "Epoch 55/100\n",
            "426/426 [==============================] - 0s 47us/step - loss: 6.1294 - acc: 0.6197\n",
            "Epoch 56/100\n",
            "426/426 [==============================] - 0s 51us/step - loss: 6.1294 - acc: 0.6197\n",
            "Epoch 57/100\n",
            "426/426 [==============================] - 0s 55us/step - loss: 6.1294 - acc: 0.6197\n",
            "Epoch 58/100\n",
            "426/426 [==============================] - 0s 45us/step - loss: 6.1294 - acc: 0.6197\n",
            "Epoch 59/100\n",
            "426/426 [==============================] - 0s 46us/step - loss: 6.1294 - acc: 0.6197\n",
            "Epoch 60/100\n",
            "426/426 [==============================] - 0s 47us/step - loss: 6.1294 - acc: 0.6197\n",
            "Epoch 61/100\n",
            "426/426 [==============================] - 0s 52us/step - loss: 6.1294 - acc: 0.6197\n",
            "Epoch 62/100\n",
            "426/426 [==============================] - 0s 44us/step - loss: 6.1294 - acc: 0.6197\n",
            "Epoch 63/100\n",
            "426/426 [==============================] - 0s 53us/step - loss: 6.1294 - acc: 0.6197\n",
            "Epoch 64/100\n",
            "426/426 [==============================] - 0s 39us/step - loss: 6.1294 - acc: 0.6197\n",
            "Epoch 65/100\n",
            "426/426 [==============================] - 0s 50us/step - loss: 6.1294 - acc: 0.6197\n",
            "Epoch 66/100\n",
            "426/426 [==============================] - 0s 50us/step - loss: 6.1294 - acc: 0.6197\n",
            "Epoch 67/100\n",
            "426/426 [==============================] - 0s 46us/step - loss: 6.1294 - acc: 0.6197\n",
            "Epoch 68/100\n",
            "426/426 [==============================] - 0s 48us/step - loss: 6.1294 - acc: 0.6197\n",
            "Epoch 69/100\n",
            "426/426 [==============================] - 0s 46us/step - loss: 6.1294 - acc: 0.6197\n",
            "Epoch 70/100\n",
            "426/426 [==============================] - 0s 48us/step - loss: 6.1294 - acc: 0.6197\n",
            "Epoch 71/100\n",
            "426/426 [==============================] - 0s 43us/step - loss: 6.1294 - acc: 0.6197\n",
            "Epoch 72/100\n",
            "426/426 [==============================] - 0s 49us/step - loss: 6.1294 - acc: 0.6197\n",
            "Epoch 73/100\n",
            "426/426 [==============================] - 0s 45us/step - loss: 6.1294 - acc: 0.6197\n",
            "Epoch 74/100\n",
            "426/426 [==============================] - 0s 49us/step - loss: 6.1294 - acc: 0.6197\n",
            "Epoch 75/100\n",
            "426/426 [==============================] - 0s 64us/step - loss: 6.1294 - acc: 0.6197\n",
            "Epoch 76/100\n",
            "426/426 [==============================] - 0s 49us/step - loss: 6.1294 - acc: 0.6197\n",
            "Epoch 77/100\n",
            "426/426 [==============================] - 0s 49us/step - loss: 6.1294 - acc: 0.6197\n",
            "Epoch 78/100\n",
            "426/426 [==============================] - 0s 52us/step - loss: 6.1294 - acc: 0.6197\n",
            "Epoch 79/100\n",
            "426/426 [==============================] - 0s 48us/step - loss: 6.1294 - acc: 0.6197\n",
            "Epoch 80/100\n",
            "426/426 [==============================] - 0s 55us/step - loss: 6.1294 - acc: 0.6197\n",
            "Epoch 81/100\n",
            "426/426 [==============================] - 0s 50us/step - loss: 6.1294 - acc: 0.6197\n",
            "Epoch 82/100\n",
            "426/426 [==============================] - 0s 45us/step - loss: 6.1294 - acc: 0.6197\n",
            "Epoch 83/100\n",
            "426/426 [==============================] - 0s 45us/step - loss: 6.1294 - acc: 0.6197\n",
            "Epoch 84/100\n",
            "426/426 [==============================] - 0s 49us/step - loss: 6.1294 - acc: 0.6197\n",
            "Epoch 85/100\n",
            "426/426 [==============================] - 0s 46us/step - loss: 6.1294 - acc: 0.6197\n",
            "Epoch 86/100\n",
            "426/426 [==============================] - 0s 48us/step - loss: 6.1294 - acc: 0.6197\n",
            "Epoch 87/100\n",
            "426/426 [==============================] - 0s 54us/step - loss: 6.1294 - acc: 0.6197\n",
            "Epoch 88/100\n",
            "426/426 [==============================] - 0s 43us/step - loss: 6.1294 - acc: 0.6197\n",
            "Epoch 89/100\n",
            "426/426 [==============================] - 0s 46us/step - loss: 6.1294 - acc: 0.6197\n",
            "Epoch 90/100\n",
            "426/426 [==============================] - 0s 49us/step - loss: 6.1294 - acc: 0.6197\n",
            "Epoch 91/100\n",
            "426/426 [==============================] - 0s 49us/step - loss: 6.1294 - acc: 0.6197\n",
            "Epoch 92/100\n",
            "426/426 [==============================] - 0s 48us/step - loss: 6.1294 - acc: 0.6197\n",
            "Epoch 93/100\n",
            "426/426 [==============================] - 0s 52us/step - loss: 6.1294 - acc: 0.6197\n",
            "Epoch 94/100\n",
            "426/426 [==============================] - 0s 50us/step - loss: 6.1294 - acc: 0.6197\n",
            "Epoch 95/100\n",
            "426/426 [==============================] - 0s 59us/step - loss: 6.1294 - acc: 0.6197\n",
            "Epoch 96/100\n",
            "426/426 [==============================] - 0s 46us/step - loss: 6.1294 - acc: 0.6197\n",
            "Epoch 97/100\n",
            "426/426 [==============================] - 0s 44us/step - loss: 6.1294 - acc: 0.6197\n",
            "Epoch 98/100\n",
            "426/426 [==============================] - 0s 44us/step - loss: 6.1294 - acc: 0.6197\n",
            "Epoch 99/100\n",
            "426/426 [==============================] - 0s 47us/step - loss: 6.1294 - acc: 0.6197\n",
            "Epoch 100/100\n",
            "426/426 [==============================] - 0s 45us/step - loss: 6.1294 - acc: 0.6197\n"
          ],
          "name": "stdout"
        }
      ]
    },
    {
      "cell_type": "code",
      "metadata": {
        "id": "19SYVY4DH7OW",
        "colab_type": "code",
        "outputId": "c44652f0-072f-423c-ab56-38875917a904",
        "colab": {
          "base_uri": "https://localhost:8080/",
          "height": 269
        }
      },
      "source": [
        "print(first_model.summary())\n",
        "print(first_model.evaluate(X_test, Y_test))"
      ],
      "execution_count": 16,
      "outputs": [
        {
          "output_type": "stream",
          "text": [
            "Model: \"sequential_3\"\n",
            "_________________________________________________________________\n",
            "Layer (type)                 Output Shape              Param #   \n",
            "=================================================================\n",
            "dense_5 (Dense)              (None, 50)                1500      \n",
            "_________________________________________________________________\n",
            "dense_6 (Dense)              (None, 1)                 51        \n",
            "=================================================================\n",
            "Total params: 1,551\n",
            "Trainable params: 1,551\n",
            "Non-trainable params: 0\n",
            "_________________________________________________________________\n",
            "None\n",
            "143/143 [==============================] - 0s 85us/step\n",
            "[5.635697721601366, 0.6503496532673603]\n"
          ],
          "name": "stdout"
        }
      ]
    },
    {
      "cell_type": "code",
      "metadata": {
        "id": "EBYPua9zH-E6",
        "colab_type": "code",
        "colab": {}
      },
      "source": [
        ""
      ],
      "execution_count": 0,
      "outputs": []
    }
  ]
}