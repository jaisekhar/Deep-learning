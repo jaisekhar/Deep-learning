{
  "nbformat": 4,
  "nbformat_minor": 0,
  "metadata": {
    "colab": {
      "name": "DL_1a.ipynb",
      "provenance": []
    },
    "kernelspec": {
      "name": "python3",
      "display_name": "Python 3"
    }
  },
  "cells": [
    {
      "cell_type": "code",
      "metadata": {
        "id": "pTRagYcvHjDj",
        "colab_type": "code",
        "colab": {}
      },
      "source": [
        "import pandas\n",
        "from keras.models import Sequential\n",
        "from keras.layers.core import Dense, Activation\n",
        "\n",
        "# load dataset\n",
        "from sklearn.model_selection import train_test_split\n",
        "import pandas as pd\n",
        "import numpy as np"
      ],
      "execution_count": 0,
      "outputs": []
    },
    {
      "cell_type": "code",
      "metadata": {
        "id": "ApzFGDkOHnt7",
        "colab_type": "code",
        "colab": {}
      },
      "source": [
        "dataset = pd.read_csv(\"drive/My Drive/DL_ICP1/diabetes.csv\", header=None).values"
      ],
      "execution_count": 0,
      "outputs": []
    },
    {
      "cell_type": "code",
      "metadata": {
        "id": "QTu7-0t7OQ5I",
        "colab_type": "code",
        "outputId": "a69719bc-3953-4d1c-b4da-eb1b3555bd88",
        "colab": {
          "base_uri": "https://localhost:8080/",
          "height": 34
        }
      },
      "source": [
        "from google.colab import drive\n",
        "drive.mount('/content/drive/')"
      ],
      "execution_count": 13,
      "outputs": [
        {
          "output_type": "stream",
          "text": [
            "Drive already mounted at /content/drive/; to attempt to forcibly remount, call drive.mount(\"/content/drive/\", force_remount=True).\n"
          ],
          "name": "stdout"
        }
      ]
    },
    {
      "cell_type": "code",
      "metadata": {
        "id": "yt64olkkHwft",
        "colab_type": "code",
        "colab": {}
      },
      "source": [
        "X_train, X_test, Y_train, Y_test = train_test_split(dataset[:,0:8], dataset[:,8],test_size=0.25, random_state=87)"
      ],
      "execution_count": 0,
      "outputs": []
    },
    {
      "cell_type": "code",
      "metadata": {
        "id": "d31zma3SH1KX",
        "colab_type": "code",
        "colab": {}
      },
      "source": [
        "np.random.seed(42)"
      ],
      "execution_count": 0,
      "outputs": []
    },
    {
      "cell_type": "code",
      "metadata": {
        "id": "rMfomxTmH3ww",
        "colab_type": "code",
        "outputId": "b4708e25-e00e-40bb-8d63-a5f403adfa4a",
        "colab": {
          "base_uri": "https://localhost:8080/",
          "height": 1000
        }
      },
      "source": [
        "first_model = Sequential() # create model\n",
        "first_model.add(Dense(40, input_dim=8, activation='relu')) # hidden layer\n",
        "first_model.add(Dense(1, activation='sigmoid')) # output layer\n",
        "first_model.compile(loss='binary_crossentropy', optimizer='adam', metrics=['acc'])\n",
        "first_model_fitted = first_model.fit(X_train, Y_train, epochs=100,initial_epoch=0)"
      ],
      "execution_count": 16,
      "outputs": [
        {
          "output_type": "stream",
          "text": [
            "Epoch 1/100\n",
            "576/576 [==============================] - 0s 640us/step - loss: 5.4508 - acc: 0.6615\n",
            "Epoch 2/100\n",
            "576/576 [==============================] - 0s 43us/step - loss: 5.4455 - acc: 0.6615\n",
            "Epoch 3/100\n",
            "576/576 [==============================] - 0s 42us/step - loss: 5.4349 - acc: 0.6615\n",
            "Epoch 4/100\n",
            "576/576 [==============================] - 0s 47us/step - loss: 5.4315 - acc: 0.6597\n",
            "Epoch 5/100\n",
            "576/576 [==============================] - 0s 46us/step - loss: 5.4322 - acc: 0.6615\n",
            "Epoch 6/100\n",
            "576/576 [==============================] - 0s 43us/step - loss: 5.4311 - acc: 0.6615\n",
            "Epoch 7/100\n",
            "576/576 [==============================] - 0s 44us/step - loss: 5.4310 - acc: 0.6615\n",
            "Epoch 8/100\n",
            "576/576 [==============================] - 0s 45us/step - loss: 5.4311 - acc: 0.6615\n",
            "Epoch 9/100\n",
            "576/576 [==============================] - 0s 43us/step - loss: 5.4315 - acc: 0.6615\n",
            "Epoch 10/100\n",
            "576/576 [==============================] - 0s 44us/step - loss: 5.4310 - acc: 0.6615\n",
            "Epoch 11/100\n",
            "576/576 [==============================] - 0s 42us/step - loss: 5.4309 - acc: 0.6615\n",
            "Epoch 12/100\n",
            "576/576 [==============================] - 0s 44us/step - loss: 5.4320 - acc: 0.6615\n",
            "Epoch 13/100\n",
            "576/576 [==============================] - 0s 43us/step - loss: 5.4309 - acc: 0.6615\n",
            "Epoch 14/100\n",
            "576/576 [==============================] - 0s 41us/step - loss: 5.4305 - acc: 0.6615\n",
            "Epoch 15/100\n",
            "576/576 [==============================] - 0s 50us/step - loss: 5.4305 - acc: 0.6632\n",
            "Epoch 16/100\n",
            "576/576 [==============================] - 0s 53us/step - loss: 5.4309 - acc: 0.6632\n",
            "Epoch 17/100\n",
            "576/576 [==============================] - 0s 51us/step - loss: 5.4314 - acc: 0.6615\n",
            "Epoch 18/100\n",
            "576/576 [==============================] - 0s 48us/step - loss: 5.4303 - acc: 0.6615\n",
            "Epoch 19/100\n",
            "576/576 [==============================] - 0s 44us/step - loss: 5.4306 - acc: 0.6615\n",
            "Epoch 20/100\n",
            "576/576 [==============================] - 0s 50us/step - loss: 5.4308 - acc: 0.6615\n",
            "Epoch 21/100\n",
            "576/576 [==============================] - 0s 51us/step - loss: 5.4301 - acc: 0.6632\n",
            "Epoch 22/100\n",
            "576/576 [==============================] - 0s 70us/step - loss: 5.4302 - acc: 0.6632\n",
            "Epoch 23/100\n",
            "576/576 [==============================] - 0s 54us/step - loss: 5.4307 - acc: 0.6615\n",
            "Epoch 24/100\n",
            "576/576 [==============================] - 0s 47us/step - loss: 5.4303 - acc: 0.6632\n",
            "Epoch 25/100\n",
            "576/576 [==============================] - 0s 47us/step - loss: 5.4301 - acc: 0.6632\n",
            "Epoch 26/100\n",
            "576/576 [==============================] - 0s 51us/step - loss: 5.4301 - acc: 0.6632\n",
            "Epoch 27/100\n",
            "576/576 [==============================] - 0s 46us/step - loss: 5.4301 - acc: 0.6632\n",
            "Epoch 28/100\n",
            "576/576 [==============================] - 0s 52us/step - loss: 5.4301 - acc: 0.6632\n",
            "Epoch 29/100\n",
            "576/576 [==============================] - 0s 46us/step - loss: 5.4301 - acc: 0.6632\n",
            "Epoch 30/100\n",
            "576/576 [==============================] - 0s 48us/step - loss: 5.4299 - acc: 0.6632\n",
            "Epoch 31/100\n",
            "576/576 [==============================] - 0s 57us/step - loss: 5.4301 - acc: 0.6632\n",
            "Epoch 32/100\n",
            "576/576 [==============================] - 0s 49us/step - loss: 5.4300 - acc: 0.6632\n",
            "Epoch 33/100\n",
            "576/576 [==============================] - 0s 45us/step - loss: 5.4303 - acc: 0.6632\n",
            "Epoch 34/100\n",
            "576/576 [==============================] - 0s 47us/step - loss: 5.4299 - acc: 0.6632\n",
            "Epoch 35/100\n",
            "576/576 [==============================] - 0s 43us/step - loss: 5.4295 - acc: 0.6632\n",
            "Epoch 36/100\n",
            "576/576 [==============================] - 0s 53us/step - loss: 5.4300 - acc: 0.6632\n",
            "Epoch 37/100\n",
            "576/576 [==============================] - 0s 44us/step - loss: 5.4296 - acc: 0.6632\n",
            "Epoch 38/100\n",
            "576/576 [==============================] - 0s 45us/step - loss: 5.4297 - acc: 0.6632\n",
            "Epoch 39/100\n",
            "576/576 [==============================] - 0s 51us/step - loss: 5.4295 - acc: 0.6632\n",
            "Epoch 40/100\n",
            "576/576 [==============================] - 0s 44us/step - loss: 5.4297 - acc: 0.6632\n",
            "Epoch 41/100\n",
            "576/576 [==============================] - 0s 45us/step - loss: 5.4296 - acc: 0.6632\n",
            "Epoch 42/100\n",
            "576/576 [==============================] - 0s 41us/step - loss: 5.4302 - acc: 0.6632\n",
            "Epoch 43/100\n",
            "576/576 [==============================] - 0s 53us/step - loss: 5.4294 - acc: 0.6632\n",
            "Epoch 44/100\n",
            "576/576 [==============================] - 0s 49us/step - loss: 5.4294 - acc: 0.6632\n",
            "Epoch 45/100\n",
            "576/576 [==============================] - 0s 47us/step - loss: 5.4294 - acc: 0.6632\n",
            "Epoch 46/100\n",
            "576/576 [==============================] - 0s 50us/step - loss: 5.4295 - acc: 0.6632\n",
            "Epoch 47/100\n",
            "576/576 [==============================] - 0s 47us/step - loss: 5.4296 - acc: 0.6632\n",
            "Epoch 48/100\n",
            "576/576 [==============================] - 0s 53us/step - loss: 5.4293 - acc: 0.6632\n",
            "Epoch 49/100\n",
            "576/576 [==============================] - 0s 59us/step - loss: 5.4293 - acc: 0.6632\n",
            "Epoch 50/100\n",
            "576/576 [==============================] - 0s 42us/step - loss: 5.4293 - acc: 0.6632\n",
            "Epoch 51/100\n",
            "576/576 [==============================] - 0s 41us/step - loss: 5.4297 - acc: 0.6632\n",
            "Epoch 52/100\n",
            "576/576 [==============================] - 0s 48us/step - loss: 5.4292 - acc: 0.6632\n",
            "Epoch 53/100\n",
            "576/576 [==============================] - 0s 44us/step - loss: 5.4294 - acc: 0.6632\n",
            "Epoch 54/100\n",
            "576/576 [==============================] - 0s 47us/step - loss: 5.4294 - acc: 0.6632\n",
            "Epoch 55/100\n",
            "576/576 [==============================] - 0s 46us/step - loss: 5.4293 - acc: 0.6632\n",
            "Epoch 56/100\n",
            "576/576 [==============================] - 0s 57us/step - loss: 5.4294 - acc: 0.6632\n",
            "Epoch 57/100\n",
            "576/576 [==============================] - 0s 48us/step - loss: 5.4292 - acc: 0.6632\n",
            "Epoch 58/100\n",
            "576/576 [==============================] - 0s 45us/step - loss: 5.4292 - acc: 0.6632\n",
            "Epoch 59/100\n",
            "576/576 [==============================] - 0s 55us/step - loss: 5.4294 - acc: 0.6632\n",
            "Epoch 60/100\n",
            "576/576 [==============================] - 0s 44us/step - loss: 5.4293 - acc: 0.6632\n",
            "Epoch 61/100\n",
            "576/576 [==============================] - 0s 49us/step - loss: 5.4291 - acc: 0.6632\n",
            "Epoch 62/100\n",
            "576/576 [==============================] - 0s 42us/step - loss: 5.4293 - acc: 0.6632\n",
            "Epoch 63/100\n",
            "576/576 [==============================] - 0s 39us/step - loss: 5.4290 - acc: 0.6632\n",
            "Epoch 64/100\n",
            "576/576 [==============================] - 0s 49us/step - loss: 5.4293 - acc: 0.6632\n",
            "Epoch 65/100\n",
            "576/576 [==============================] - 0s 47us/step - loss: 5.4294 - acc: 0.6632\n",
            "Epoch 66/100\n",
            "576/576 [==============================] - 0s 52us/step - loss: 5.4291 - acc: 0.6632\n",
            "Epoch 67/100\n",
            "576/576 [==============================] - 0s 46us/step - loss: 5.4291 - acc: 0.6632\n",
            "Epoch 68/100\n",
            "576/576 [==============================] - 0s 54us/step - loss: 5.4291 - acc: 0.6632\n",
            "Epoch 69/100\n",
            "576/576 [==============================] - 0s 53us/step - loss: 5.4291 - acc: 0.6632\n",
            "Epoch 70/100\n",
            "576/576 [==============================] - 0s 45us/step - loss: 5.4290 - acc: 0.6632\n",
            "Epoch 71/100\n",
            "576/576 [==============================] - 0s 47us/step - loss: 5.4290 - acc: 0.6632\n",
            "Epoch 72/100\n",
            "576/576 [==============================] - 0s 50us/step - loss: 5.4290 - acc: 0.6632\n",
            "Epoch 73/100\n",
            "576/576 [==============================] - 0s 47us/step - loss: 5.4290 - acc: 0.6632\n",
            "Epoch 74/100\n",
            "576/576 [==============================] - 0s 43us/step - loss: 5.4291 - acc: 0.6632\n",
            "Epoch 75/100\n",
            "576/576 [==============================] - 0s 46us/step - loss: 5.4290 - acc: 0.6632\n",
            "Epoch 76/100\n",
            "576/576 [==============================] - 0s 45us/step - loss: 5.4290 - acc: 0.6632\n",
            "Epoch 77/100\n",
            "576/576 [==============================] - 0s 48us/step - loss: 5.4290 - acc: 0.6632\n",
            "Epoch 78/100\n",
            "576/576 [==============================] - 0s 45us/step - loss: 5.4290 - acc: 0.6632\n",
            "Epoch 79/100\n",
            "576/576 [==============================] - 0s 42us/step - loss: 5.4290 - acc: 0.6632\n",
            "Epoch 80/100\n",
            "576/576 [==============================] - 0s 48us/step - loss: 5.4290 - acc: 0.6632\n",
            "Epoch 81/100\n",
            "576/576 [==============================] - 0s 54us/step - loss: 5.4290 - acc: 0.6632\n",
            "Epoch 82/100\n",
            "576/576 [==============================] - 0s 44us/step - loss: 5.4289 - acc: 0.6632\n",
            "Epoch 83/100\n",
            "576/576 [==============================] - 0s 40us/step - loss: 5.4290 - acc: 0.6632\n",
            "Epoch 84/100\n",
            "576/576 [==============================] - 0s 48us/step - loss: 5.4289 - acc: 0.6632\n",
            "Epoch 85/100\n",
            "576/576 [==============================] - 0s 43us/step - loss: 5.4290 - acc: 0.6632\n",
            "Epoch 86/100\n",
            "576/576 [==============================] - 0s 42us/step - loss: 5.4289 - acc: 0.6632\n",
            "Epoch 87/100\n",
            "576/576 [==============================] - 0s 43us/step - loss: 5.4290 - acc: 0.6632\n",
            "Epoch 88/100\n",
            "576/576 [==============================] - 0s 40us/step - loss: 5.4289 - acc: 0.6632\n",
            "Epoch 89/100\n",
            "576/576 [==============================] - 0s 46us/step - loss: 5.4289 - acc: 0.6632\n",
            "Epoch 90/100\n",
            "576/576 [==============================] - 0s 54us/step - loss: 5.4290 - acc: 0.6632\n",
            "Epoch 91/100\n",
            "576/576 [==============================] - 0s 52us/step - loss: 5.4291 - acc: 0.6632\n",
            "Epoch 92/100\n",
            "576/576 [==============================] - 0s 40us/step - loss: 5.4289 - acc: 0.6632\n",
            "Epoch 93/100\n",
            "576/576 [==============================] - 0s 51us/step - loss: 5.4290 - acc: 0.6632\n",
            "Epoch 94/100\n",
            "576/576 [==============================] - 0s 46us/step - loss: 5.4289 - acc: 0.6632\n",
            "Epoch 95/100\n",
            "576/576 [==============================] - 0s 51us/step - loss: 5.4289 - acc: 0.6632\n",
            "Epoch 96/100\n",
            "576/576 [==============================] - 0s 45us/step - loss: 5.4290 - acc: 0.6632\n",
            "Epoch 97/100\n",
            "576/576 [==============================] - 0s 46us/step - loss: 5.4290 - acc: 0.6632\n",
            "Epoch 98/100\n",
            "576/576 [==============================] - 0s 45us/step - loss: 5.4290 - acc: 0.6632\n",
            "Epoch 99/100\n",
            "576/576 [==============================] - 0s 51us/step - loss: 5.4289 - acc: 0.6632\n",
            "Epoch 100/100\n",
            "576/576 [==============================] - 0s 52us/step - loss: 5.4289 - acc: 0.6632\n"
          ],
          "name": "stdout"
        }
      ]
    },
    {
      "cell_type": "code",
      "metadata": {
        "id": "19SYVY4DH7OW",
        "colab_type": "code",
        "outputId": "0e03ea87-2ffb-4330-cd02-57b40c88433a",
        "colab": {
          "base_uri": "https://localhost:8080/",
          "height": 269
        }
      },
      "source": [
        "print(first_model.summary())\n",
        "print(first_model.evaluate(X_test, Y_test))"
      ],
      "execution_count": 17,
      "outputs": [
        {
          "output_type": "stream",
          "text": [
            "Model: \"sequential_5\"\n",
            "_________________________________________________________________\n",
            "Layer (type)                 Output Shape              Param #   \n",
            "=================================================================\n",
            "dense_9 (Dense)              (None, 40)                360       \n",
            "_________________________________________________________________\n",
            "dense_10 (Dense)             (None, 1)                 41        \n",
            "=================================================================\n",
            "Total params: 401\n",
            "Trainable params: 401\n",
            "Non-trainable params: 0\n",
            "_________________________________________________________________\n",
            "None\n",
            "192/192 [==============================] - 0s 658us/step\n",
            "[6.059367775917053, 0.6197916666666666]\n"
          ],
          "name": "stdout"
        }
      ]
    },
    {
      "cell_type": "code",
      "metadata": {
        "id": "EBYPua9zH-E6",
        "colab_type": "code",
        "colab": {}
      },
      "source": [
        ""
      ],
      "execution_count": 0,
      "outputs": []
    }
  ]
}